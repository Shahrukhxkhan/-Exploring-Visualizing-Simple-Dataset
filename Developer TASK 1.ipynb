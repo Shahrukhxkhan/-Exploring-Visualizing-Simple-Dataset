{
 "cells": [
  {
   "cell_type": "code",
   "execution_count": null,
   "id": "a98c0f76",
   "metadata": {},
   "outputs": [],
   "source": [
    "import pandas as pd\n",
    "import seaborn as sns\n",
    "import matplotlib.pyplot as plt\n",
    "import tkinter as tk\n",
    "from tkinter import messagebox, scrolledtext\n"
   ]
  },
  {
   "cell_type": "code",
   "execution_count": null,
   "id": "241b42d1",
   "metadata": {},
   "outputs": [],
   "source": [
    "# Load the Iris dataset\n",
    "df = sns.load_dataset('iris')\n"
   ]
  },
  {
   "cell_type": "code",
   "execution_count": null,
   "id": "88709a8f",
   "metadata": {},
   "outputs": [],
   "source": [
    "def show_info():\n",
    "    import io\n",
    "    info_text.delete(1.0, tk.END)\n",
    "    buffer = io.StringIO()\n",
    "    df.info(buf=buffer)\n",
    "    info_text.insert(tk.END, buffer.getvalue())\n",
    "\n",
    "def show_head():\n",
    "    info_text.delete(1.0, tk.END)\n",
    "    info_text.insert(tk.END, df.head().to_string())\n",
    "\n",
    "def show_stats():\n",
    "    info_text.delete(1.0, tk.END)\n",
    "    info_text.insert(tk.END, df.describe().to_string())\n",
    "\n",
    "def show_pairplot():\n",
    "    sns.pairplot(df, hue='species')\n",
    "    plt.suptitle(\"Pairplot of Iris Dataset\", y=1.02)\n",
    "    plt.show()\n",
    "\n",
    "def show_histograms():\n",
    "    df.hist(figsize=(10, 8))\n",
    "    plt.suptitle(\"Histograms of Iris Dataset Features\", y=1.02)\n",
    "    plt.show()\n",
    "\n",
    "def show_boxplots():\n",
    "    plt.figure(figsize=(10, 6))\n",
    "    sns.boxplot(data=df)\n",
    "    plt.title(\"Box Plots of Iris Dataset Features\")\n",
    "    plt.show()\n"
   ]
  },
  {
   "cell_type": "code",
   "execution_count": null,
   "id": "45cef1a7",
   "metadata": {},
   "outputs": [],
   "source": [
    "root = tk.Tk()\n",
    "root.title(\"Iris Dataset Explorer\")\n",
    "root.geometry(\"800x600\")\n"
   ]
  },
  {
   "cell_type": "code",
   "execution_count": null,
   "id": "35ce8b72",
   "metadata": {},
   "outputs": [],
   "source": [
    "# Title label\n",
    "title = tk.Label(root, text=\"Iris Dataset Exploration Tool\", font=(\"Helvetica\", 16, \"bold\"))\n",
    "title.pack(pady=10)\n",
    "\n",
    "# Frame for buttons\n",
    "button_frame = tk.Frame(root)\n",
    "button_frame.pack(pady=10)\n"
   ]
  },
  {
   "cell_type": "code",
   "execution_count": null,
   "id": "9c063488",
   "metadata": {},
   "outputs": [],
   "source": [
    "tk.Button(button_frame, text=\"Show Head\", width=15, command=show_head).grid(row=0, column=0, padx=5, pady=5)\n",
    "tk.Button(button_frame, text=\"Show Info\", width=15, command=show_info).grid(row=0, column=1, padx=5, pady=5)\n",
    "tk.Button(button_frame, text=\"Show Stats\", width=15, command=show_stats).grid(row=0, column=2, padx=5, pady=5)\n",
    "\n",
    "tk.Button(button_frame, text=\"Pairplot\", width=15, command=show_pairplot).grid(row=1, column=0, padx=5, pady=5)\n",
    "tk.Button(button_frame, text=\"Histograms\", width=15, command=show_histograms).grid(row=1, column=1, padx=5, pady=5)\n",
    "tk.Button(button_frame, text=\"Box Plots\", width=15, command=show_boxplots).grid(row=1, column=2, padx=5, pady=5)\n"
   ]
  },
  {
   "cell_type": "code",
   "execution_count": null,
   "id": "17d59cae",
   "metadata": {},
   "outputs": [],
   "source": [
    "# Text box for displaying info/stats/head\n",
    "info_text = scrolledtext.ScrolledText(root, width=100, height=20, font=(\"Courier\", 10))\n",
    "info_text.pack(padx=10, pady=10)\n"
   ]
  },
  {
   "cell_type": "code",
   "execution_count": null,
   "id": "60594476",
   "metadata": {},
   "outputs": [],
   "source": [
    "# Start the GUI loop\n",
    "root.mainloop()\n"
   ]
  }
 ],
 "metadata": {
  "kernelspec": {
   "display_name": "Python 3",
   "language": "python",
   "name": "python3"
  },
  "language_info": {
   "codemirror_mode": {
    "name": "ipython",
    "version": 3
   },
   "file_extension": ".py",
   "mimetype": "text/x-python",
   "name": "python",
   "nbconvert_exporter": "python",
   "pygments_lexer": "ipython3",
   "version": "3.13.1"
  }
 },
 "nbformat": 4,
 "nbformat_minor": 5
}
